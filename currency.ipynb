{
 "cells": [
  {
   "cell_type": "code",
   "execution_count": 6,
   "id": "e800a099",
   "metadata": {},
   "outputs": [
    {
     "name": "stdout",
     "output_type": "stream",
     "text": [
      "Ready to predict using model Currency_Detection in project 7404f55a-0289-4f7f-9652-b4dbc14c8589\n"
     ]
    }
   ],
   "source": [
    "project_id = '7404f55a-0289-4f7f-9652-b4dbc14c8589'\n",
    "cv_key = 'f843dd0d608c4c258b947d82b1d4d198'\n",
    "cv_endpoint = 'https://cloudxhackathon.cognitiveservices.azure.com/'\n",
    "\n",
    "model_name = 'Currency_Detection'\n",
    "print('Ready to predict using model {} in project {}'.format(model_name, project_id))"
   ]
  },
  {
   "cell_type": "code",
   "execution_count": 7,
   "id": "f6f6f7d2",
   "metadata": {},
   "outputs": [],
   "source": [
    "#!pip install azure-cognitiveservices-vision-customvision"
   ]
  },
  {
   "cell_type": "code",
   "execution_count": null,
   "id": "200ccc66",
   "metadata": {},
   "outputs": [],
   "source": []
  },
  {
   "cell_type": "code",
   "execution_count": null,
   "id": "f6fb06bf",
   "metadata": {},
   "outputs": [],
   "source": [
    "from azure.cognitiveservices.vision.customvision.prediction import CustomVisionPredictionClient\n",
    "from msrest.authentication import ApiKeyCredentials\n",
    "import matplotlib.pyplot as plt\n",
    "from PIL import Image\n",
    "import os\n",
    "%matplotlib inline\n",
    "\n",
    "# Get the test images from the data/vision/test folder\n",
    "test_folder = os.path.join('Data', 'currency')\n",
    "test_images = os.listdir(test_folder)\n",
    "\n",
    "# Create an instance of the prediction service\n",
    "credentials = ApiKeyCredentials(in_headers={\"Prediction-key\": cv_key})\n",
    "custom_vision_client = CustomVisionPredictionClient(endpoint=cv_endpoint, credentials=credentials)\n",
    "\n",
    "# Create a figure to display the results\n",
    "fig = plt.figure(figsize=(16, 8))\n",
    "\n",
    "# Get the images and show the predicted classes for each one\n",
    "print('Classifying images in {} ...'.format(test_folder))\n",
    "for i in range(len(test_images)):\n",
    "    # Open the image, and use the custom vision model to classify it\n",
    "    image_contents = open(os.path.join(test_folder, test_images[i]), \"rb\")\n",
    "    classification = custom_vision_client.classify_image(project_id, model_name, image_contents.read())\n",
    "    # The results include a prediction for each tag, in descending order of probability - get the first one\n",
    "    prediction = classification.predictions[0].tag_name\n",
    "    # Display the image with its predicted class\n",
    "    img = Image.open(os.path.join(test_folder, test_images[i]))\n",
    "    a=fig.add_subplot(len(test_images)/3, 3,i+1)\n",
    "    a.axis('off')\n",
    "    imgplot = plt.imshow(img)\n",
    "    a.set_title(prediction)\n",
    "plt.show()"
   ]
  },
  {
   "cell_type": "code",
   "execution_count": null,
   "id": "4b1adac6",
   "metadata": {},
   "outputs": [],
   "source": []
  }
 ],
 "metadata": {
  "kernelspec": {
   "display_name": "Python 3 (ipykernel)",
   "language": "python",
   "name": "python3"
  },
  "language_info": {
   "codemirror_mode": {
    "name": "ipython",
    "version": 3
   },
   "file_extension": ".py",
   "mimetype": "text/x-python",
   "name": "python",
   "nbconvert_exporter": "python",
   "pygments_lexer": "ipython3",
   "version": "3.9.7"
  }
 },
 "nbformat": 4,
 "nbformat_minor": 5
}
